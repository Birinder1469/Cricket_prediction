{
 "cells": [
  {
   "cell_type": "code",
   "execution_count": 1,
   "metadata": {},
   "outputs": [],
   "source": [
    "# Load the libraries \n",
    "import pandas as pd \n",
    "import numpy as np\n",
    "import matplotlib.pyplot as plt\n",
    "import warnings\n",
    "warnings.filterwarnings(\"ignore\")\n",
    "import requests\n",
    "\n",
    "# Import Beautiful Soup\n",
    "from bs4 import BeautifulSoup\n",
    "from urllib.request import urlopen\n",
    "from urllib.error import HTTPError, URLError"
   ]
  },
  {
   "cell_type": "code",
   "execution_count": 2,
   "metadata": {},
   "outputs": [],
   "source": [
    "# Load the squads information \n",
    "wc_squad=[]\n",
    "try:\n",
    "    wc_squads_request=requests.get('http://www.espncricinfo.com/ci/content/squad/index.html?object=1144415')\n",
    "except HTTPError as error:\n",
    "    print(\"The famous error code: \", error.code)\n",
    "    print(\"The reason for the exception:\", error.reason)"
   ]
  },
  {
   "cell_type": "code",
   "execution_count": 3,
   "metadata": {},
   "outputs": [],
   "source": [
    "wc_squads_data=BeautifulSoup(wc_squads_request.text)"
   ]
  },
  {
   "cell_type": "code",
   "execution_count": 4,
   "metadata": {},
   "outputs": [],
   "source": [
    "wc_squad_list=[]\n",
    "url_squad_list=[]\n",
    "for squad_name in wc_squads_data.find('ul', {'class':'squads_list'}).find_all('a'):\n",
    "    webpage='http://www.espncricinfo.com/'\n",
    "    webpage_squad=webpage+squad_name['href']\n",
    "    \n",
    "    url_squad_list.append(webpage_squad)\n",
    "    \n",
    "    wc_squad_list.append(squad_name.text.rstrip('Squad').strip(' '))\n",
    "    \n",
    "wc_squads=pd.DataFrame({'Teams':wc_squad_list,'url':url_squad_list})"
   ]
  },
  {
   "cell_type": "code",
   "execution_count": 5,
   "metadata": {},
   "outputs": [
    {
     "data": {
      "text/html": [
       "<div>\n",
       "<style scoped>\n",
       "    .dataframe tbody tr th:only-of-type {\n",
       "        vertical-align: middle;\n",
       "    }\n",
       "\n",
       "    .dataframe tbody tr th {\n",
       "        vertical-align: top;\n",
       "    }\n",
       "\n",
       "    .dataframe thead th {\n",
       "        text-align: right;\n",
       "    }\n",
       "</style>\n",
       "<table border=\"1\" class=\"dataframe\">\n",
       "  <thead>\n",
       "    <tr style=\"text-align: right;\">\n",
       "      <th></th>\n",
       "      <th>Teams</th>\n",
       "      <th>url</th>\n",
       "    </tr>\n",
       "  </thead>\n",
       "  <tbody>\n",
       "    <tr>\n",
       "      <th>0</th>\n",
       "      <td>Afghanistan</td>\n",
       "      <td>http://www.espncricinfo.com//ci/content/squad/...</td>\n",
       "    </tr>\n",
       "    <tr>\n",
       "      <th>1</th>\n",
       "      <td>Australia</td>\n",
       "      <td>http://www.espncricinfo.com//ci/content/squad/...</td>\n",
       "    </tr>\n",
       "    <tr>\n",
       "      <th>2</th>\n",
       "      <td>Bangladesh</td>\n",
       "      <td>http://www.espncricinfo.com//ci/content/squad/...</td>\n",
       "    </tr>\n",
       "    <tr>\n",
       "      <th>3</th>\n",
       "      <td>England</td>\n",
       "      <td>http://www.espncricinfo.com//ci/content/squad/...</td>\n",
       "    </tr>\n",
       "    <tr>\n",
       "      <th>4</th>\n",
       "      <td>India</td>\n",
       "      <td>http://www.espncricinfo.com//ci/content/squad/...</td>\n",
       "    </tr>\n",
       "    <tr>\n",
       "      <th>5</th>\n",
       "      <td>New Zealand</td>\n",
       "      <td>http://www.espncricinfo.com//ci/content/squad/...</td>\n",
       "    </tr>\n",
       "    <tr>\n",
       "      <th>6</th>\n",
       "      <td>Pakistan</td>\n",
       "      <td>http://www.espncricinfo.com//ci/content/squad/...</td>\n",
       "    </tr>\n",
       "    <tr>\n",
       "      <th>7</th>\n",
       "      <td>South Africa</td>\n",
       "      <td>http://www.espncricinfo.com//ci/content/squad/...</td>\n",
       "    </tr>\n",
       "    <tr>\n",
       "      <th>8</th>\n",
       "      <td>Sri Lanka</td>\n",
       "      <td>http://www.espncricinfo.com//ci/content/squad/...</td>\n",
       "    </tr>\n",
       "    <tr>\n",
       "      <th>9</th>\n",
       "      <td>West Indies</td>\n",
       "      <td>http://www.espncricinfo.com//ci/content/squad/...</td>\n",
       "    </tr>\n",
       "  </tbody>\n",
       "</table>\n",
       "</div>"
      ],
      "text/plain": [
       "          Teams                                                url\n",
       "0   Afghanistan  http://www.espncricinfo.com//ci/content/squad/...\n",
       "1     Australia  http://www.espncricinfo.com//ci/content/squad/...\n",
       "2    Bangladesh  http://www.espncricinfo.com//ci/content/squad/...\n",
       "3       England  http://www.espncricinfo.com//ci/content/squad/...\n",
       "4         India  http://www.espncricinfo.com//ci/content/squad/...\n",
       "5   New Zealand  http://www.espncricinfo.com//ci/content/squad/...\n",
       "6      Pakistan  http://www.espncricinfo.com//ci/content/squad/...\n",
       "7  South Africa  http://www.espncricinfo.com//ci/content/squad/...\n",
       "8     Sri Lanka  http://www.espncricinfo.com//ci/content/squad/...\n",
       "9   West Indies  http://www.espncricinfo.com//ci/content/squad/..."
      ]
     },
     "execution_count": 5,
     "metadata": {},
     "output_type": "execute_result"
    }
   ],
   "source": [
    "wc_squads"
   ]
  },
  {
   "cell_type": "code",
   "execution_count": 9,
   "metadata": {},
   "outputs": [
    {
     "data": {
      "text/plain": [
       "'http://www.espncricinfo.com//ci/content/squad/1181689.html'"
      ]
     },
     "execution_count": 9,
     "metadata": {},
     "output_type": "execute_result"
    }
   ],
   "source": [
    "wc_squads['url'][0]"
   ]
  },
  {
   "cell_type": "code",
   "execution_count": 10,
   "metadata": {},
   "outputs": [],
   "source": [
    "squad_details_request=requests.get(wc_squads['url'][0])\n",
    "wc_squads_data=BeautifulSoup(squad_details_request.text)\n",
    "    \n",
    "    \n",
    "    "
   ]
  },
  {
   "cell_type": "code",
   "execution_count": 43,
   "metadata": {},
   "outputs": [
    {
     "name": "stdout",
     "output_type": "stream",
     "text": [
      "\r\n",
      "\t\t\t\t\t\tGulbadin Naib\r\n",
      "\t\t\t\t\t\t\n",
      "\r\n",
      "\t\t\t\t\t\tAftab Alam\r\n",
      "\t\t\t\t\t\t\n",
      "\r\n",
      "\t\t\t\t\t\tAsghar Afghan\r\n",
      "\t\t\t\t\t\t\n",
      "\r\n",
      "\t\t\t\t\t\tDawlat Zadran\r\n",
      "\t\t\t\t\t\t\n",
      "\r\n",
      "\t\t\t\t\t\tHamid Hassan\r\n",
      "\t\t\t\t\t\t\n",
      "\r\n",
      "\t\t\t\t\t\tHashmatullah Shahidi\r\n",
      "\t\t\t\t\t\t\n",
      "\r\n",
      "\t\t\t\t\t\tHazratullah Zazai\r\n",
      "\t\t\t\t\t\t\n",
      "\r\n",
      "\t\t\t\t\t\tMohammad Nabi\r\n",
      "\t\t\t\t\t\t\n",
      "\r\n",
      "\t\t\t\t\t\tMohammad Shahzad\r\n",
      "\t\t\t\t\t\t\n",
      "\r\n",
      "\t\t\t\t\t\tMujeeb Ur Rahman\r\n",
      "\t\t\t\t\t\t\n",
      "\r\n",
      "\t\t\t\t\t\tNajibullah Zadran\r\n",
      "\t\t\t\t\t\t\n",
      "\r\n",
      "\t\t\t\t\t\tNoor Ali Zadran\r\n",
      "\t\t\t\t\t\t\n",
      "\r\n",
      "\t\t\t\t\t\tRahmat Shah\r\n",
      "\t\t\t\t\t\t\n",
      "\r\n",
      "\t\t\t\t\t\tRashid Khan\r\n",
      "\t\t\t\t\t\t\n",
      "\r\n",
      "\t\t\t\t\t\tSamiullah Shinwari\r\n",
      "\t\t\t\t\t\t\n",
      "\r\n",
      "\t\t\t\t\t\tIkram Ali Khil\r\n",
      "\t\t\t\t\t\t\n",
      "\r\n",
      "\t\t\t\t\t\tKarim Janat\r\n",
      "\t\t\t\t\t\t\n",
      "\r\n",
      "\t\t\t\t\t\tSayed Shirzad\r\n",
      "\t\t\t\t\t\t\n"
     ]
    }
   ],
   "source": [
    "for i in wc_squads_data.find_all('div', {'class':'large-13 medium-13 small-13 columns'}):\n",
    "    print(i.find('a').text)"
   ]
  }
 ],
 "metadata": {
  "kernelspec": {
   "display_name": "Python 3",
   "language": "python",
   "name": "python3"
  },
  "language_info": {
   "codemirror_mode": {
    "name": "ipython",
    "version": 3
   },
   "file_extension": ".py",
   "mimetype": "text/x-python",
   "name": "python",
   "nbconvert_exporter": "python",
   "pygments_lexer": "ipython3",
   "version": "3.6.5"
  }
 },
 "nbformat": 4,
 "nbformat_minor": 2
}
